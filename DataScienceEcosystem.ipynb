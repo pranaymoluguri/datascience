{
 "cells": [
  {
   "cell_type": "markdown",
   "id": "a5d7c9e3",
   "metadata": {},
   "source": [
    "# Data Science Tools and Ecosystem"
   ]
  },
  {
   "cell_type": "markdown",
   "id": "0e9b6fc0",
   "metadata": {},
   "source": [
    "In this notebook, Data Science Tools and Ecosystem are summarized."
   ]
  },
  {
   "cell_type": "markdown",
   "id": "33fe0983",
   "metadata": {},
   "source": [
    "**Objectives**\n",
    "- Python\n",
    "- R\n",
    "- Jupyter\n",
    "- Numpy\n",
    "- Anaconda\n",
    "- GitHub"
   ]
  },
  {
   "cell_type": "markdown",
   "id": "1e049985",
   "metadata": {},
   "source": [
    "Some of the popular languages that Data Scientists use are :\n",
    "1. Python\n",
    "2. R\n",
    "3. Java\n",
    "4. JavaScript\n",
    "5. C / C++"
   ]
  },
  {
   "cell_type": "markdown",
   "id": "adb85983",
   "metadata": {},
   "source": [
    "Some of the commonly used libraries by Data Scientists include:\n",
    "1. NumPy\n",
    "2. SkyiPy\n",
    "3. Pandas\n",
    "4. Tensorflow\n",
    "5. Matplotlib"
   ]
  },
  {
   "cell_type": "markdown",
   "id": "d973b903",
   "metadata": {},
   "source": [
    "|Data Science Tools|\n",
    "|------------------|\n",
    "|Jupyter Notebook|\n",
    "|R Studio|\n",
    "|Visual Studio|\n",
    "|Google CoLab|"
   ]
  },
  {
   "cell_type": "markdown",
   "id": "90f39f0f",
   "metadata": {},
   "source": [
    "### Below are a few examples of evaluating arithematic expressions in Python"
   ]
  },
  {
   "cell_type": "code",
   "execution_count": 4,
   "id": "5157b5bf",
   "metadata": {},
   "outputs": [
    {
     "data": {
      "text/plain": [
       "17"
      ]
     },
     "execution_count": 4,
     "metadata": {},
     "output_type": "execute_result"
    }
   ],
   "source": [
    "#this is a simple arithematic expression to multiply then add integers\n",
    "(3*4)+5\n"
   ]
  },
  {
   "cell_type": "code",
   "execution_count": 5,
   "id": "e20f1efa",
   "metadata": {},
   "outputs": [
    {
     "data": {
      "text/plain": [
       "3.3333333333333335"
      ]
     },
     "execution_count": 5,
     "metadata": {},
     "output_type": "execute_result"
    }
   ],
   "source": [
    "#this will convert 200 minutes to hours by dividing by 60\n",
    "200/60"
   ]
  },
  {
   "cell_type": "markdown",
   "id": "3b3eff21",
   "metadata": {},
   "source": [
    "## Author\n",
    "Pranay Moluguri"
   ]
  },
  {
   "cell_type": "code",
   "execution_count": null,
   "id": "2d9bdd31",
   "metadata": {},
   "outputs": [],
   "source": []
  }
 ],
 "metadata": {
  "kernelspec": {
   "display_name": "Python 3 (ipykernel)",
   "language": "python",
   "name": "python3"
  },
  "language_info": {
   "codemirror_mode": {
    "name": "ipython",
    "version": 3
   },
   "file_extension": ".py",
   "mimetype": "text/x-python",
   "name": "python",
   "nbconvert_exporter": "python",
   "pygments_lexer": "ipython3",
   "version": "3.10.11"
  }
 },
 "nbformat": 4,
 "nbformat_minor": 5
}
