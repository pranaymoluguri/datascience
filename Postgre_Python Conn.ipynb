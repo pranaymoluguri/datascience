{
 "cells": [
  {
   "cell_type": "code",
   "execution_count": null,
   "metadata": {},
   "outputs": [],
   "source": [
    "# pip install pyscopg2 \n",
    "#install package for python"
   ]
  },
  {
   "cell_type": "code",
   "execution_count": 1,
   "metadata": {},
   "outputs": [],
   "source": [
    "import psycopg2\n"
   ]
  },
  {
   "cell_type": "code",
   "execution_count": 27,
   "metadata": {},
   "outputs": [],
   "source": [
    "conn= psycopg2.connect(host=\"localhost\", dbname=\"student\", user=\"postgres\", password=\"pranay1991\", port=5432)"
   ]
  },
  {
   "cell_type": "code",
   "execution_count": 28,
   "metadata": {},
   "outputs": [],
   "source": [
    "cur=conn.cursor()"
   ]
  },
  {
   "cell_type": "code",
   "execution_count": 29,
   "metadata": {},
   "outputs": [],
   "source": [
    "createq=\"\"\"CREATE TABLE IF NOT EXISTS studentinfo (\n",
    "            id INT PRIMARY KEY,\n",
    "            NAME VARCHAR(200),\n",
    "            AGE INT,\n",
    "            SEX CHAR(6)\n",
    ");\n",
    "\"\"\"\n"
   ]
  },
  {
   "cell_type": "code",
   "execution_count": 30,
   "metadata": {},
   "outputs": [
    {
     "name": "stdout",
     "output_type": "stream",
     "text": [
      "Successful\n"
     ]
    }
   ],
   "source": [
    "try:\n",
    "    cur.execute(createq)\n",
    "    conn.commit()\n",
    "    print(\"Successful\")\n",
    "except (Exception, psycopg2.Error) as error:\n",
    "    if conn:\n",
    "        conn.rollback()\n",
    "    print(\"Error\", error)\n",
    "# finally:\n",
    "#     if conn:\n",
    "#         conn.autocommit=True\n",
    "#         cur.close()\n",
    "#         conn.close()"
   ]
  },
  {
   "cell_type": "code",
   "execution_count": 41,
   "metadata": {},
   "outputs": [],
   "source": [
    "insertq=\"\"\" INSERT INTO studentinfo (id, name, age, sex) VALUES \n",
    "(1,'Pranay', 32, 'M'),\n",
    "(2,'Pinkoo', 28, 'M'),\n",
    "(3,'Mike', 36, 'M'),\n",
    "(4,'Tara', 16, 'F'),\n",
    "(5,'Alley', 28, 'F'),\n",
    "(6,'Barbie', 33, 'F')\n",
    "\n",
    "\"\"\""
   ]
  },
  {
   "cell_type": "code",
   "execution_count": 42,
   "metadata": {},
   "outputs": [
    {
     "name": "stdout",
     "output_type": "stream",
     "text": [
      "insert done\n"
     ]
    }
   ],
   "source": [
    "try:\n",
    "    cur.execute(insertq)\n",
    "    conn.commit()\n",
    "    print(\"insert done\")\n",
    "except (Exception, psycopg2.Error) as Error2:\n",
    "    if conn:\n",
    "        conn.rollback()\n",
    "    print(Error2)"
   ]
  },
  {
   "cell_type": "code",
   "execution_count": 43,
   "metadata": {},
   "outputs": [],
   "source": [
    "testq=\"\"\" select * from studentinfo \"\"\""
   ]
  },
  {
   "cell_type": "code",
   "execution_count": 46,
   "metadata": {},
   "outputs": [
    {
     "name": "stdout",
     "output_type": "stream",
     "text": [
      "(1, 'Pranay', 32, 'M     ')\n"
     ]
    }
   ],
   "source": [
    "cur.execute(testq)\n",
    "print(cur.fetchone())"
   ]
  },
  {
   "cell_type": "code",
   "execution_count": 48,
   "metadata": {},
   "outputs": [
    {
     "name": "stdout",
     "output_type": "stream",
     "text": [
      "(1, 'Pranay', 32, 'M     ')\n",
      "(2, 'Pinkoo', 28, 'M     ')\n",
      "(3, 'Mike', 36, 'M     ')\n",
      "(4, 'Tara', 16, 'F     ')\n",
      "(5, 'Alley', 28, 'F     ')\n",
      "(6, 'Barbie', 33, 'F     ')\n"
     ]
    }
   ],
   "source": [
    "cur.execute(testq)\n",
    "\n",
    "for row in cur.fetchall():\n",
    "    print(row)"
   ]
  },
  {
   "cell_type": "code",
   "execution_count": null,
   "metadata": {},
   "outputs": [],
   "source": []
  }
 ],
 "metadata": {
  "kernelspec": {
   "display_name": "base",
   "language": "python",
   "name": "python3"
  },
  "language_info": {
   "codemirror_mode": {
    "name": "ipython",
    "version": 3
   },
   "file_extension": ".py",
   "mimetype": "text/x-python",
   "name": "python",
   "nbconvert_exporter": "python",
   "pygments_lexer": "ipython3",
   "version": "3.11.4"
  }
 },
 "nbformat": 4,
 "nbformat_minor": 2
}
